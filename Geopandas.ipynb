{
 "cells": [
  {
   "cell_type": "code",
   "execution_count": 7,
   "metadata": {},
   "outputs": [
    {
     "data": {
      "text/plain": [
       "['Adelaide',\n",
       " 'Albany',\n",
       " 'Albury',\n",
       " 'AliceSprings',\n",
       " 'BadgerysCreek',\n",
       " 'Ballarat',\n",
       " 'Bendigo',\n",
       " 'Brisbane',\n",
       " 'Cairns',\n",
       " 'Canberra',\n",
       " 'Cobar',\n",
       " 'CoffsHarbour',\n",
       " 'Dartmoor',\n",
       " 'Darwin',\n",
       " 'GoldCoast',\n",
       " 'Hobart',\n",
       " 'Katherine',\n",
       " 'Launceston',\n",
       " 'Melbourne',\n",
       " 'MelbourneAirport',\n",
       " 'Mildura',\n",
       " 'Moree',\n",
       " 'MountGambier',\n",
       " 'MountGinini',\n",
       " 'Newcastle',\n",
       " 'Nhil',\n",
       " 'NorahHead',\n",
       " 'NorfolkIsland',\n",
       " 'Nuriootpa',\n",
       " 'PearceRAAF',\n",
       " 'Penrith',\n",
       " 'Perth',\n",
       " 'PerthAirport',\n",
       " 'Portland',\n",
       " 'Richmond',\n",
       " 'Sale',\n",
       " 'SalmonGums',\n",
       " 'Sydney',\n",
       " 'SydneyAirport',\n",
       " 'Townsville',\n",
       " 'Tuggeranong',\n",
       " 'Uluru',\n",
       " 'WaggaWagga',\n",
       " 'Walpole',\n",
       " 'Watsonia',\n",
       " 'Williamtown',\n",
       " 'Witchcliffe',\n",
       " 'Wollongong',\n",
       " 'Woomera']"
      ]
     },
     "execution_count": 7,
     "metadata": {},
     "output_type": "execute_result"
    }
   ],
   "source": [
    "import pandas as pd\n",
    "df=pd.read_csv(\"weatherAUS.csv\") #Kaggle>DL dataset as zip. Plus tard on pourra prendre aPI\n",
    "liste_station = df[\"Location\"].unique()\n",
    "sorted(liste_station)"
   ]
  },
  {
   "cell_type": "code",
   "execution_count": 8,
   "metadata": {},
   "outputs": [],
   "source": [
    "import pandas as pd\n",
    "import numpy as np\n",
    "\n",
    "import geopandas as gpd\n",
    "from shapely.geometry import Point #Pour faire GeoDataFrame\n",
    "import contextily as ctx #Pour ajouter une carte à l\"arriere plan\n",
    "import matplotlib.pyplot as plt\n",
    "\n",
    "from geopy.geocoders import Nominatim\n",
    "import time\n",
    "import plotly.express as px\n",
    "import plotly.subplots as sp"
   ]
  },
  {
   "cell_type": "code",
   "execution_count": 9,
   "metadata": {},
   "outputs": [],
   "source": [
    "#Coordoonnées des stations actives avec fichiers de listes des stations du BOM\n",
    "#Prendre la meilleur source #Coordonnées des stations :http://www.bom.gov.au/climate/cdo/about/sitedata.shtml Mettre rainfall \n",
    "# ou http://www.bom.gov.au/climate/data/stations/ 1/state Australia. 2 Rainfall\n",
    "\n",
    "import pandas as pd\n",
    "\n",
    "df_station = pd.read_fwf((\"stations_data.txt\"))\n",
    "\n",
    "\n",
    "df_station = df_station.drop(0, axis=0) #Enlève la ligne  avec des ----\n",
    "\n",
    "# Conversion des types des variables\n",
    "df_station[\"Start\"] = df_station[\"Start\"].astype(int)\n",
    "df_station[\"Site\"] = df_station[\"Site\"].astype(int)\n",
    "df_station[\"Lat\"] = df_station[\"Lat\"].astype(float)\n",
    "df_station[\"Lon\"] = df_station[\"Lon\"].astype(float)\n",
    "\n",
    "#Enlever end <2017 --> Supprime 13.000 vieilles stations\n",
    "df_station[\"End\"] = df_station[\"End\"].replace(to_replace=\"..\", value=\"9999\") #Les stations tjs ouvertes ont \"..\", le convertir en 9999\n",
    "df_station[\"End\"] = df_station[\"End\"].astype(int)\n",
    "df_station = df_station.loc[df_station[\"End\"] > 2017]\n",
    "#ou celles ouvertes après le début des relevés du dataset\n",
    "df_station = df_station.loc[df_station[\"Start\"] < 2014]"
   ]
  },
  {
   "cell_type": "code",
   "execution_count": 10,
   "metadata": {},
   "outputs": [
    {
     "name": "stdout",
     "output_type": "stream",
     "text": [
      "Albury: -36.0737734, 146.9135265\n",
      "BadgerysCreek: Non trouvé\n",
      "Cobar: -31.9666628, 145.3045054\n",
      "CoffsHarbour: Non trouvé\n",
      "Moree: -29.4617202, 149.8407153\n",
      "Newcastle: -32.9192953, 151.7795348\n",
      "NorahHead: Non trouvé\n",
      "NorfolkIsland: Non trouvé\n",
      "Penrith: -33.7511954, 150.6941711\n",
      "Richmond: -37.80745, 144.9907213\n",
      "Sydney: -33.8698439, 151.2082848\n",
      "SydneyAirport: Non trouvé\n",
      "WaggaWagga: Non trouvé\n",
      "Williamtown: -32.815, 151.8427778\n",
      "Wollongong: -34.4243941, 150.89385\n",
      "Canberra: -35.2975906, 149.1012676\n",
      "Tuggeranong: -35.4209771, 149.0921341\n",
      "MountGinini: Non trouvé\n",
      "Ballarat: -37.5623013, 143.8605645\n",
      "Bendigo: -36.7590183, 144.2826718\n",
      "Sale: -38.1094463, 147.0656717\n",
      "MelbourneAirport: Non trouvé\n",
      "Melbourne: -37.8142454, 144.9631732\n",
      "Mildura: -34.195274, 142.1503146\n",
      "Nhil: -35.4325403, 141.2833862\n",
      "Portland: -38.3456231, 141.6042304\n",
      "Watsonia: -37.7109468, 145.0837808\n",
      "Dartmoor: -37.895212, 141.2679429\n",
      "Brisbane: -27.4689623, 153.0235009\n",
      "Cairns: -16.9206657, 145.7721854\n",
      "GoldCoast: -28.0805, 153.4309187\n",
      "Townsville: -19.2569391, 146.8239537\n",
      "Adelaide: -34.9281805, 138.5999312\n",
      "MountGambier: Non trouvé\n",
      "Nuriootpa: -34.4693354, 138.9939006\n",
      "Woomera: -31.1999142, 136.8253532\n",
      "Albany: -35.0247822, 117.883608\n",
      "Witchcliffe: -34.0263348, 115.1004768\n",
      "PearceRAAF: Non trouvé\n",
      "PerthAirport: Non trouvé\n",
      "Perth: -31.9558933, 115.8605855\n",
      "SalmonGums: Non trouvé\n",
      "Walpole: -34.9776796, 116.7310063\n",
      "Hobart: -42.8825088, 147.3281233\n",
      "Launceston: -41.4340813, 147.1373496\n",
      "AliceSprings: Non trouvé\n",
      "Darwin: -12.46044, 130.8410469\n",
      "Katherine: -14.4646157, 132.2635993\n",
      "Uluru: -25.3455545, 131.0369615\n",
      "BadgerysCreek: -33.8831452, 150.742466\n",
      "CoffsHarbour: -30.2985996, 153.1094116\n",
      "NorahHead: -33.2816667, 151.5677778\n",
      "NorfolkIsland: -29.0328038, 167.9483137\n",
      "SydneyAirport: -33.9498935, 151.1819682\n",
      "WaggaWagga: -35.115, 147.3677778\n",
      "MountGinini: -35.5297437, 148.7725396\n",
      "MelbourneAirport: -37.6667554, 144.8288501\n",
      "MountGambier: -37.8301386, 140.7842627\n",
      "PearceRAAF: -31.6739604, 116.0175435\n",
      "PerthAirport: -31.9415213, 115.9655769\n",
      "SalmonGums: -32.9815167, 121.6440785\n",
      "AliceSprings: -23.6983884, 133.8812885\n"
     ]
    }
   ],
   "source": [
    "# code de Florent pour récupérer les coordoonées GPS des df[\"Location\"] --> dico : localisations {Location: Lat, Lon}\n",
    "\n",
    "df=pd.read_csv(\"weatherAUS.csv\") #Kaggle>DL dataset as zip. Plus tard on pourra prendre aPI\n",
    "\n",
    "\n",
    "geolocator = Nominatim(user_agent=\"australia_weather_geo\")\n",
    "\n",
    "# Récup stations \n",
    "liste_station = df[\"Location\"].unique()\n",
    "\n",
    "# Dictionnaire pour stocker les positions GPS\n",
    "localisations = {}\n",
    "\n",
    "# Récup des données GPS \n",
    "for station in liste_station:\n",
    "    try:\n",
    "        location = geolocator.geocode(f\"{station}, Australia\")\n",
    "        if location:\n",
    "            localisations[station] = (location.latitude, location.longitude)\n",
    "            print(f\"{station}: {location.latitude}, {location.longitude}\")\n",
    "        else:\n",
    "            localisations[station] = (None, None)\n",
    "            print(f\"{station}: Non trouvé\")\n",
    "        time.sleep(1)  # Pause d'une seconde pour éviter d'être bloqué par l'API\n",
    "    except Exception as e:\n",
    "        print(f\"Erreur pour {station}: {e}\")\n",
    "        localisations[station] = (None, None)\n",
    "\n",
    "\n",
    "stations_manquantes= {\n",
    "    \"BadgerysCreek\": \"Badgerys Creek\",\n",
    "    \"CoffsHarbour\": \"Coffs Harbour\",\n",
    "    \"NorahHead\": \"Norah Head\",\n",
    "    \"NorfolkIsland\": \"Norfolk Island\",\n",
    "    \"SydneyAirport\": \"Sydney Airport\", \n",
    "    \"WaggaWagga\": \"Wagga Wagga\",\n",
    "    \"MountGinini\": \"Mount Ginini\", \n",
    "    \"MelbourneAirport\": \"Melbourne Airport\", \n",
    "    \"MountGambier\": \"Mount Gambier\", \n",
    "    \"PearceRAAF\": \"RAAF Base Pearce\", \n",
    "    \"PerthAirport\": \"Perth Airport\", \n",
    "    \"SalmonGums\": \"Salmon Gums, Western Australia\", \n",
    "    \"AliceSprings\": \"Alice Springs, Northern Territory\",}\n",
    "\n",
    "\n",
    "n_localisations = {}\n",
    "\n",
    "# Recherche des coordonnées \n",
    "for station, location_query in stations_manquantes.items():\n",
    "    try:\n",
    "        location = geolocator.geocode(location_query)\n",
    "        if location:\n",
    "            n_localisations [station] = (location.latitude, location.longitude)\n",
    "            print(f\"{station}: {location.latitude}, {location.longitude}\")\n",
    "        else:\n",
    "            n_localisations[station] = (None, None)\n",
    "            print(f\"{station}: Non trouvé\")\n",
    "        time.sleep(1)  \n",
    "    except Exception as e:\n",
    "        print(f\"Erreur pour {station}: {e}\")\n",
    "        n_localisations[station] = (None, None)\n",
    "\n",
    "\n",
    "localisations.update(n_localisations)\n"
   ]
  },
  {
   "cell_type": "code",
   "execution_count": 11,
   "metadata": {},
   "outputs": [
    {
     "data": {
      "text/plain": [
       "([], [])"
      ]
     },
     "execution_count": 11,
     "metadata": {},
     "output_type": "execute_result"
    },
    {
     "data": {
      "image/png": "[encoded data removed]",
      "text/plain": [
       "<Figure size 1000x1000 with 1 Axes>"
      ]
     },
     "metadata": {},
     "output_type": "display_data"
    }
   ],
   "source": [
    "# Carte d'Australie en Mercator avec infos topo Json (Contextly/Geopandas/Matplotlib)\n",
    "import geopandas as gpd\n",
    "from shapely.geometry import Point #Pour faire GeoDataFrame\n",
    "import contextily as ctx #Pour ajouter une carte à l\"arriere plan\n",
    "import matplotlib.pyplot as plt\n",
    "\n",
    "#Dico de stations avec coordonnées -> en Dataframe\n",
    "df_station = pd.DataFrame.from_dict(localisations, orient=\"index\", columns=[\"Latitude\", \"Longitude\"]).reset_index()\n",
    "df_station.rename(columns={\"index\": \"Location\"}, inplace=True)\n",
    "\n",
    "## 2. Transformer le df en GeoDataFrame\n",
    "# 2a. Créer une géométrie de type Point\n",
    "geometry = [Point(lon, lat) for lon, lat in zip(df_station[\"Longitude\"], df_station[\"Latitude\"])]\n",
    "# 2b. Convertir en GeoDataFrame\n",
    "gdf_villes = gpd.GeoDataFrame(df_station, geometry=geometry)\n",
    "\n",
    "##3 Systeme de projection (CRS)\n",
    "# 3a. Définir le CRS initial des données (WGS 84 - EPSG:4326)\n",
    "gdf_villes.crs = \"EPSG:4326\" #Systemes de coordonnées géographiques : latitude, longitude\n",
    "# 3b. Reprojeter les données \n",
    "#gdf_villes = gdf_villes.to_crs(epsg=3112) #(projection australienne : Australian National Grid)\n",
    "gdf_villes = gdf_villes.to_crs(epsg=3857)#format openmap :Web Mercator\n",
    "\n",
    "\n",
    "# 4. Créer le plot avec un fond de carte\n",
    "fig, ax = plt.subplots(figsize=(10, 10))\n",
    "\n",
    "# 6. Limiter l'étendue de la carte (zoom manuel si nécessaire)\n",
    "# Limite les coordonnées à un secteur de l'Australie pour éviter un zoom trop large\n",
    "minx, miny, maxx, maxy = gdf_villes.total_bounds\n",
    "buffer = 300*1000  # Ajustez selon votre besoin (en mètres km*1000)\n",
    "# Ajustez les limites\n",
    "ax.set_xlim(minx - buffer, maxx + buffer)\n",
    "ax.set_ylim(miny - buffer, maxy + buffer)\n",
    "\n",
    "# 5. Ajouter la carte de fond (OpenStreetMap)\n",
    "ctx.add_basemap(ax, crs=gdf_villes.crs.to_string(), source=ctx.providers.OpenStreetMap.Mapnik)\n",
    "\n",
    "# 6. Afficher les villes sur la carte\n",
    "gdf_villes.plot(ax=ax, marker=\"o\", color=\"red\", markersize=50, label=\"Site name\")\n",
    "\n",
    "# 7. Charger un fichier GeoJSON avec des données géographiques sur l\"Australie\n",
    "gdf_geojson = gpd.read_file(\"custom.geo.json\")\n",
    "#et l\"ajouter au plot\n",
    "gdf_geojson.plot(ax=ax, facecolor=\"lightgreen\", edgecolor=\"black\", alpha=1, label=\"Australie\")\n",
    "\n",
    "# 8. Titre et affichage\n",
    "plt.title(\"Carte d Australie\")\n",
    "plt.xlabel(\"Longitude\") #110 à 170 avec Norfolk island\n",
    "plt.ylabel(\"Latitude\") #-50 à -10\n",
    "abscisse = ax.get_xticks()\n",
    "test1= ax.get_xlim()\n",
    "#plt.xticks (ticks = abscisse, labels=list(np.linspace(ax.get_xlim, 180, len(abscisse))) )\n",
    "plt.yticks([])\n",
    "#plt.legend()\n",
    "#plt.show();\n"
   ]
  },
  {
   "cell_type": "code",
   "execution_count": 12,
   "metadata": {},
   "outputs": [],
   "source": [
    "#Init carte de Florent\n",
    "# Création du DataFrame des localisations \n",
    "localisations_df = pd.DataFrame.from_dict(localisations, orient=\"index\", columns=[\"Latitude\", \"Longitude\"]).reset_index()\n",
    "localisations_df.rename(columns={\"index\": \"Location\"}, inplace=True)\n",
    "\n",
    "df = df.merge(localisations_df, on=\"Location\", how=\"left\")\n",
    "\n",
    "# Calcul de la moyenne par station \n",
    "rainfall_mean_by_location = df.groupby(\"Location\")[\"Rainfall\"].mean().reset_index()\n",
    "rainfall_mean_by_location = rainfall_mean_by_location.merge(localisations_df, on=\"Location\", how=\"left\")  # Ajout des coordonnées\n",
    "\n"
   ]
  },
  {
   "cell_type": "code",
   "execution_count": 13,
   "metadata": {},
   "outputs": [
    {
     "data": {
      "application/vnd.plotly.v1+json": {
       "config": {
        "plotlyServerURL": "https://plot.ly"
       },
       "data": [
        {
         "geo": "geo",
         "hovertemplate": "<b>%{hovertext}</b><br><br>Rainfall=%{marker.color}<br>Location=%{text}<br>Latitude=%{lat}<br>Longitude=%{lon}<extra></extra>",
         "hovertext": [
          "Adelaide",
          "Albany",
          "Albury",
          "AliceSprings",
          "BadgerysCreek",
          "Ballarat",
          "Bendigo",
          "Brisbane",
          "Cairns",
          "Canberra",
          "Cobar",
          "CoffsHarbour",
          "Dartmoor",
          "Darwin",
          "GoldCoast",
          "Hobart",
          "Katherine",
          "Launceston",
          "Melbourne",
          "MelbourneAirport",
          "Mildura",
          "Moree",
          "MountGambier",
          "MountGinini",
          "Newcastle",
          "Nhil",
          "NorahHead",
          "NorfolkIsland",
          "Nuriootpa",
          "PearceRAAF",
          "Penrith",
          "Perth",
          "PerthAirport",
          "Portland",
          "Richmond",
          "Sale",
          "SalmonGums",
          "Sydney",
          "SydneyAirport",
          "Townsville",
          "Tuggeranong",
          "Uluru",
          "WaggaWagga",
          "Walpole",
          "Watsonia",
          "Williamtown",
          "Witchcliffe",
          "Wollongong",
          "Woomera"
         ],
         "lat": {
          "bdata": "eSRens52QcDvQikQLINBwEkoImhxCULA4OcJlcmyN8BIz+PmCvFAwMj/Ln35x0LAY8j7gidhQsCUjs3pDXg7wIgMUL+w6zDAa0zjchemQcCCQpg2d/c/wEOZ/AVxTD7ATn6LTpbyQsBdiqvKvusowPhT46WbFDzAUjdhDPZwRcCSaukb4u0swBCn3fmPt0TAj/V5MTnoQsA4t649WNVCwCrhCb3+GEHAD+eGSzN2PcDYEk37QepCwIphPaTOw0HA6m7od6t1QMDcWQV7XbdBwKZviKcNpEDAPS9w1GUIPcBz7bAuEzxBwJDMNKuIrD/A7PO9KyfgQMAs911stfQ/wMf8N4oH8T/A/p6zYD0sQ8Dek4eFWudCwIiVG1YCDkPAKn3XVqJ9QMADkH8LV+9AwGyXNhyW+UDATZDHwsZBM8C2bt6T4rVBwFJ8fEJ2WDnAH4XrUbiOQcCy++maJH1BwBKZA04A20LAuB6F61FoQMCUX1DwXgNBwMQOvotSNkHAiQG3ky0zP8A=",
          "dtype": "f8"
         },
         "legendgroup": "",
         "lon": {
          "bdata": "M3vqojJTYUD5npEIjXhdQPAw7Zs7XWJA6brwgzO8YECLjA5IwtdiQCjzj76J+2FADBC7pQsJYkCmnfWEwCBjQFzuJ761OGJAn8SMlT2jYkCTzhuCviliQLJ5wUyAI2NAQRb9/JKoYUDfPDDb6VpgQIR3AxbKLWNAx1Fv/H9qYkD0l8xnb4hgQMwD/SplZGJAR0yaUNIeYkAqGaXwhRpiQJBjkGDPxGFA5tfFI+e6YkAg/xauGJlhQK2b96S4mGJAAQP38vH4YkBopO9/EalhQKJMWTwr8mJAKfv4lVj+ZEAxj6EIzl9hQHmwxW4fAV1AgopPpjbWYkBbejTVE/dcQHrRDQPM/VxA+Of92lWzYUBr3if9sx9iQLp4ifsZYmJAomMHlThpXkAgiOJEquZiQC99+a7S5WJAYl0m1F1aYkAWSzbD8qJiQME24skuYWBAPOby1cRrYkDh6qXOyC5dQAyBElWuImJAbxkmCfj6YkBugD42bsZcQPKwUGua3GJAxDQdS2kaYUA=",
          "dtype": "f8"
         },
         "marker": {
          "color": {
           "bdata": "1KqpI8kP+T85AWNTYhwCQP57PPU2oP4/G2Qt0E1A7D/IfPaVeIsBQH+phvEl1/s/loVKYPvo+T8ijq2JvCgJQEAr3/jX9xZAIwEaHBbe+z8vthJpdQnyP+QEPgP5PhRA1PiJTCssAUAtfMDMq14UQAX6chO5Jw5ABQNBTA2h+T9XO4Lw1JsJQNNCBDmNGABAIPnItsXr/T+bJcanTDv3P9hEz6nxPe4/K2qv+U8V+j9VJAOiU7MAQDz4fnGMVgpABS5gN5x4CUBRqFK/ZertP4tvJ3AwGQtAV5DPZHUFCUCQ75tK2D72P20R+p+NtPo/cVbFmAVnAUCtYA81L4D+P5THYzi2L/w/9guxojQ+BEC5kRu5kRsBQJB7zYWkKfg/bvjyj9SM8D/O1XUAqpgKQBJlFENPFAhAknJB933iC0Dz2dWd9U8BQFmbt8N/Gek/XAm/lfBb+z/7dWCvOEEHQGp4oXrrxf0/JF/YF5e6DECAyE/dUSoHQHykdl9cwgxAohrEwMli3z8=",
           "dtype": "f8"
          },
          "coloraxis": "coloraxis",
          "size": {
           "bdata": "1KqpI8kP+T85AWNTYhwCQP57PPU2oP4/G2Qt0E1A7D/IfPaVeIsBQH+phvEl1/s/loVKYPvo+T8ijq2JvCgJQEAr3/jX9xZAIwEaHBbe+z8vthJpdQnyP+QEPgP5PhRA1PiJTCssAUAtfMDMq14UQAX6chO5Jw5ABQNBTA2h+T9XO4Lw1JsJQNNCBDmNGABAIPnItsXr/T+bJcanTDv3P9hEz6nxPe4/K2qv+U8V+j9VJAOiU7MAQDz4fnGMVgpABS5gN5x4CUBRqFK/ZertP4tvJ3AwGQtAV5DPZHUFCUCQ75tK2D72P20R+p+NtPo/cVbFmAVnAUCtYA81L4D+P5THYzi2L/w/9guxojQ+BEC5kRu5kRsBQJB7zYWkKfg/bvjyj9SM8D/O1XUAqpgKQBJlFENPFAhAknJB933iC0Dz2dWd9U8BQFmbt8N/Gek/XAm/lfBb+z/7dWCvOEEHQGp4oXrrxf0/JF/YF5e6DECAyE/dUSoHQHykdl9cwgxAohrEwMli3z8=",
           "dtype": "f8"
          },
          "sizemode": "area",
          "sizeref": 0.014355087014725569,
          "symbol": "circle"
         },
         "mode": "markers+text",
         "name": "",
         "showlegend": false,
         "text": [
          "Adelaide",
          "Albany",
          "Albury",
          "AliceSprings",
          "BadgerysCreek",
          "Ballarat",
          "Bendigo",
          "Brisbane",
          "Cairns",
          "Canberra",
          "Cobar",
          "CoffsHarbour",
          "Dartmoor",
          "Darwin",
          "GoldCoast",
          "Hobart",
          "Katherine",
          "Launceston",
          "Melbourne",
          "MelbourneAirport",
          "Mildura",
          "Moree",
          "MountGambier",
          "MountGinini",
          "Newcastle",
          "Nhil",
          "NorahHead",
          "NorfolkIsland",
          "Nuriootpa",
          "PearceRAAF",
          "Penrith",
          "Perth",
          "PerthAirport",
          "Portland",
          "Richmond",
          "Sale",
          "SalmonGums",
          "Sydney",
          "SydneyAirport",
          "Townsville",
          "Tuggeranong",
          "Uluru",
          "WaggaWagga",
          "Walpole",
          "Watsonia",
          "Williamtown",
          "Witchcliffe",
          "Wollongong",
          "Woomera"
         ],
         "type": "scattergeo"
        }
       ],
       "layout": {
        "coloraxis": {
         "colorbar": {
          "len": 0.3,
          "thickness": 15,
          "title": {
           "text": "Précipitations (mm)"
          },
          "x": 0.9,
          "y": 0.8
         },
         "colorscale": [
          [
           0,
           "#0d0887"
          ],
          [
           0.1111111111111111,
           "#46039f"
          ],
          [
           0.2222222222222222,
           "#7201a8"
          ],
          [
           0.3333333333333333,
           "#9c179e"
          ],
          [
           0.4444444444444444,
           "#bd3786"
          ],
          [
           0.5555555555555556,
           "#d8576b"
          ],
          [
           0.6666666666666666,
           "#ed7953"
          ],
          [
           0.7777777777777778,
           "#fb9f3a"
          ],
          [
           0.8888888888888888,
           "#fdca26"
          ],
          [
           1,
           "#f0f921"
          ]
         ]
        },
        "geo": {
         "center": {
          "lat": -25,
          "lon": 133
         },
         "domain": {
          "x": [
           0,
           1
          ],
          "y": [
           0,
           1
          ]
         },
         "projection": {
          "scale": 4.3,
          "type": "mercator"
         },
         "showcoastlines": true,
         "showcountries": true,
         "showframe": false
        },
        "height": 1000,
        "legend": {
         "itemsizing": "constant",
         "tracegroupgap": 0
        },
        "margin": {
         "b": 0,
         "l": 0,
         "r": 0,
         "t": 50
        },
        "template": {
         "data": {
          "bar": [
           {
            "error_x": {
             "color": "#2a3f5f"
            },
            "error_y": {
             "color": "#2a3f5f"
            },
            "marker": {
             "line": {
              "color": "#E5ECF6",
              "width": 0.5
             },
             "pattern": {
              "fillmode": "overlay",
              "size": 10,
              "solidity": 0.2
             }
            },
            "type": "bar"
           }
          ],
          "barpolar": [
           {
            "marker": {
             "line": {
              "color": "#E5ECF6",
              "width": 0.5
             },
             "pattern": {
              "fillmode": "overlay",
              "size": 10,
              "solidity": 0.2
             }
            },
            "type": "barpolar"
           }
          ],
          "carpet": [
           {
            "aaxis": {
             "endlinecolor": "#2a3f5f",
             "gridcolor": "white",
             "linecolor": "white",
             "minorgridcolor": "white",
             "startlinecolor": "#2a3f5f"
            },
            "baxis": {
             "endlinecolor": "#2a3f5f",
             "gridcolor": "white",
             "linecolor": "white",
             "minorgridcolor": "white",
             "startlinecolor": "#2a3f5f"
            },
            "type": "carpet"
           }
          ],
          "choropleth": [
           {
            "colorbar": {
             "outlinewidth": 0,
             "ticks": ""
            },
            "type": "choropleth"
           }
          ],
          "contour": [
           {
            "colorbar": {
             "outlinewidth": 0,
             "ticks": ""
            },
            "colorscale": [
             [
              0,
              "#0d0887"
             ],
             [
              0.1111111111111111,
              "#46039f"
             ],
             [
              0.2222222222222222,
              "#7201a8"
             ],
             [
              0.3333333333333333,
              "#9c179e"
             ],
             [
              0.4444444444444444,
              "#bd3786"
             ],
             [
              0.5555555555555556,
              "#d8576b"
             ],
             [
              0.6666666666666666,
              "#ed7953"
             ],
             [
              0.7777777777777778,
              "#fb9f3a"
             ],
             [
              0.8888888888888888,
              "#fdca26"
             ],
             [
              1,
              "#f0f921"
             ]
            ],
            "type": "contour"
           }
          ],
          "contourcarpet": [
           {
            "colorbar": {
             "outlinewidth": 0,
             "ticks": ""
            },
            "type": "contourcarpet"
           }
          ],
          "heatmap": [
           {
            "colorbar": {
             "outlinewidth": 0,
             "ticks": ""
            },
            "colorscale": [
             [
              0,
              "#0d0887"
             ],
             [
              0.1111111111111111,
              "#46039f"
             ],
             [
              0.2222222222222222,
              "#7201a8"
             ],
             [
              0.3333333333333333,
              "#9c179e"
             ],
             [
              0.4444444444444444,
              "#bd3786"
             ],
             [
              0.5555555555555556,
              "#d8576b"
             ],
             [
              0.6666666666666666,
              "#ed7953"
             ],
             [
              0.7777777777777778,
              "#fb9f3a"
             ],
             [
              0.8888888888888888,
              "#fdca26"
             ],
             [
              1,
              "#f0f921"
             ]
            ],
            "type": "heatmap"
           }
          ],
          "histogram": [
           {
            "marker": {
             "pattern": {
              "fillmode": "overlay",
              "size": 10,
              "solidity": 0.2
             }
            },
            "type": "histogram"
           }
          ],
          "histogram2d": [
           {
            "colorbar": {
             "outlinewidth": 0,
             "ticks": ""
            },
            "colorscale": [
             [
              0,
              "#0d0887"
             ],
             [
              0.1111111111111111,
              "#46039f"
             ],
             [
              0.2222222222222222,
              "#7201a8"
             ],
             [
              0.3333333333333333,
              "#9c179e"
             ],
             [
              0.4444444444444444,
              "#bd3786"
             ],
             [
              0.5555555555555556,
              "#d8576b"
             ],
             [
              0.6666666666666666,
              "#ed7953"
             ],
             [
              0.7777777777777778,
              "#fb9f3a"
             ],
             [
              0.8888888888888888,
              "#fdca26"
             ],
             [
              1,
              "#f0f921"
             ]
            ],
            "type": "histogram2d"
           }
          ],
          "histogram2dcontour": [
           {
            "colorbar": {
             "outlinewidth": 0,
             "ticks": ""
            },
            "colorscale": [
             [
              0,
              "#0d0887"
             ],
             [
              0.1111111111111111,
              "#46039f"
             ],
             [
              0.2222222222222222,
              "#7201a8"
             ],
             [
              0.3333333333333333,
              "#9c179e"
             ],
             [
              0.4444444444444444,
              "#bd3786"
             ],
             [
              0.5555555555555556,
              "#d8576b"
             ],
             [
              0.6666666666666666,
              "#ed7953"
             ],
             [
              0.7777777777777778,
              "#fb9f3a"
             ],
             [
              0.8888888888888888,
              "#fdca26"
             ],
             [
              1,
              "#f0f921"
             ]
            ],
            "type": "histogram2dcontour"
           }
          ],
          "mesh3d": [
           {
            "colorbar": {
             "outlinewidth": 0,
             "ticks": ""
            },
            "type": "mesh3d"
           }
          ],
          "parcoords": [
           {
            "line": {
             "colorbar": {
              "outlinewidth": 0,
              "ticks": ""
             }
            },
            "type": "parcoords"
           }
          ],
          "pie": [
           {
            "automargin": true,
            "type": "pie"
           }
          ],
          "scatter": [
           {
            "fillpattern": {
             "fillmode": "overlay",
             "size": 10,
             "solidity": 0.2
            },
            "type": "scatter"
           }
          ],
          "scatter3d": [
           {
            "line": {
             "colorbar": {
              "outlinewidth": 0,
              "ticks": ""
             }
            },
            "marker": {
             "colorbar": {
              "outlinewidth": 0,
              "ticks": ""
             }
            },
            "type": "scatter3d"
           }
          ],
          "scattercarpet": [
           {
            "marker": {
             "colorbar": {
              "outlinewidth": 0,
              "ticks": ""
             }
            },
            "type": "scattercarpet"
           }
          ],
          "scattergeo": [
           {
            "marker": {
             "colorbar": {
              "outlinewidth": 0,
              "ticks": ""
             }
            },
            "type": "scattergeo"
           }
          ],
          "scattergl": [
           {
            "marker": {
             "colorbar": {
              "outlinewidth": 0,
              "ticks": ""
             }
            },
            "type": "scattergl"
           }
          ],
          "scattermap": [
           {
            "marker": {
             "colorbar": {
              "outlinewidth": 0,
              "ticks": ""
             }
            },
            "type": "scattermap"
           }
          ],
          "scattermapbox": [
           {
            "marker": {
             "colorbar": {
              "outlinewidth": 0,
              "ticks": ""
             }
            },
            "type": "scattermapbox"
           }
          ],
          "scatterpolar": [
           {
            "marker": {
             "colorbar": {
              "outlinewidth": 0,
              "ticks": ""
             }
            },
            "type": "scatterpolar"
           }
          ],
          "scatterpolargl": [
           {
            "marker": {
             "colorbar": {
              "outlinewidth": 0,
              "ticks": ""
             }
            },
            "type": "scatterpolargl"
           }
          ],
          "scatterternary": [
           {
            "marker": {
             "colorbar": {
              "outlinewidth": 0,
              "ticks": ""
             }
            },
            "type": "scatterternary"
           }
          ],
          "surface": [
           {
            "colorbar": {
             "outlinewidth": 0,
             "ticks": ""
            },
            "colorscale": [
             [
              0,
              "#0d0887"
             ],
             [
              0.1111111111111111,
              "#46039f"
             ],
             [
              0.2222222222222222,
              "#7201a8"
             ],
             [
              0.3333333333333333,
              "#9c179e"
             ],
             [
              0.4444444444444444,
              "#bd3786"
             ],
             [
              0.5555555555555556,
              "#d8576b"
             ],
             [
              0.6666666666666666,
              "#ed7953"
             ],
             [
              0.7777777777777778,
              "#fb9f3a"
             ],
             [
              0.8888888888888888,
              "#fdca26"
             ],
             [
              1,
              "#f0f921"
             ]
            ],
            "type": "surface"
           }
          ],
          "table": [
           {
            "cells": {
             "fill": {
              "color": "#EBF0F8"
             },
             "line": {
              "color": "white"
             }
            },
            "header": {
             "fill": {
              "color": "#C8D4E3"
             },
             "line": {
              "color": "white"
             }
            },
            "type": "table"
           }
          ]
         },
         "layout": {
          "annotationdefaults": {
           "arrowcolor": "#2a3f5f",
           "arrowhead": 0,
           "arrowwidth": 1
          },
          "autotypenumbers": "strict",
          "coloraxis": {
           "colorbar": {
            "outlinewidth": 0,
            "ticks": ""
           }
          },
          "colorscale": {
           "diverging": [
            [
             0,
             "#8e0152"
            ],
            [
             0.1,
             "#c51b7d"
            ],
            [
             0.2,
             "#de77ae"
            ],
            [
             0.3,
             "#f1b6da"
            ],
            [
             0.4,
             "#fde0ef"
            ],
            [
             0.5,
             "#f7f7f7"
            ],
            [
             0.6,
             "#e6f5d0"
            ],
            [
             0.7,
             "#b8e186"
            ],
            [
             0.8,
             "#7fbc41"
            ],
            [
             0.9,
             "#4d9221"
            ],
            [
             1,
             "#276419"
            ]
           ],
           "sequential": [
            [
             0,
             "#0d0887"
            ],
            [
             0.1111111111111111,
             "#46039f"
            ],
            [
             0.2222222222222222,
             "#7201a8"
            ],
            [
             0.3333333333333333,
             "#9c179e"
            ],
            [
             0.4444444444444444,
             "#bd3786"
            ],
            [
             0.5555555555555556,
             "#d8576b"
            ],
            [
             0.6666666666666666,
             "#ed7953"
            ],
            [
             0.7777777777777778,
             "#fb9f3a"
            ],
            [
             0.8888888888888888,
             "#fdca26"
            ],
            [
             1,
             "#f0f921"
            ]
           ],
           "sequentialminus": [
            [
             0,
             "#0d0887"
            ],
            [
             0.1111111111111111,
             "#46039f"
            ],
            [
             0.2222222222222222,
             "#7201a8"
            ],
            [
             0.3333333333333333,
             "#9c179e"
            ],
            [
             0.4444444444444444,
             "#bd3786"
            ],
            [
             0.5555555555555556,
             "#d8576b"
            ],
            [
             0.6666666666666666,
             "#ed7953"
            ],
            [
             0.7777777777777778,
             "#fb9f3a"
            ],
            [
             0.8888888888888888,
             "#fdca26"
            ],
            [
             1,
             "#f0f921"
            ]
           ]
          },
          "colorway": [
           "#636efa",
           "#EF553B",
           "#00cc96",
           "#ab63fa",
           "#FFA15A",
           "#19d3f3",
           "#FF6692",
           "#B6E880",
           "#FF97FF",
           "#FECB52"
          ],
          "font": {
           "color": "#2a3f5f"
          },
          "geo": {
           "bgcolor": "white",
           "lakecolor": "white",
           "landcolor": "#E5ECF6",
           "showlakes": true,
           "showland": true,
           "subunitcolor": "white"
          },
          "hoverlabel": {
           "align": "left"
          },
          "hovermode": "closest",
          "mapbox": {
           "style": "light"
          },
          "paper_bgcolor": "white",
          "plot_bgcolor": "#E5ECF6",
          "polar": {
           "angularaxis": {
            "gridcolor": "white",
            "linecolor": "white",
            "ticks": ""
           },
           "bgcolor": "#E5ECF6",
           "radialaxis": {
            "gridcolor": "white",
            "linecolor": "white",
            "ticks": ""
           }
          },
          "scene": {
           "xaxis": {
            "backgroundcolor": "#E5ECF6",
            "gridcolor": "white",
            "gridwidth": 2,
            "linecolor": "white",
            "showbackground": true,
            "ticks": "",
            "zerolinecolor": "white"
           },
           "yaxis": {
            "backgroundcolor": "#E5ECF6",
            "gridcolor": "white",
            "gridwidth": 2,
            "linecolor": "white",
            "showbackground": true,
            "ticks": "",
            "zerolinecolor": "white"
           },
           "zaxis": {
            "backgroundcolor": "#E5ECF6",
            "gridcolor": "white",
            "gridwidth": 2,
            "linecolor": "white",
            "showbackground": true,
            "ticks": "",
            "zerolinecolor": "white"
           }
          },
          "shapedefaults": {
           "line": {
            "color": "#2a3f5f"
           }
          },
          "ternary": {
           "aaxis": {
            "gridcolor": "white",
            "linecolor": "white",
            "ticks": ""
           },
           "baxis": {
            "gridcolor": "white",
            "linecolor": "white",
            "ticks": ""
           },
           "bgcolor": "#E5ECF6",
           "caxis": {
            "gridcolor": "white",
            "linecolor": "white",
            "ticks": ""
           }
          },
          "title": {
           "x": 0.05
          },
          "xaxis": {
           "automargin": true,
           "gridcolor": "white",
           "linecolor": "white",
           "ticks": "",
           "title": {
            "standoff": 15
           },
           "zerolinecolor": "white",
           "zerolinewidth": 2
          },
          "yaxis": {
           "automargin": true,
           "gridcolor": "white",
           "linecolor": "white",
           "ticks": "",
           "title": {
            "standoff": 15
           },
           "zerolinecolor": "white",
           "zerolinewidth": 2
          }
         }
        },
        "title": {
         "text": "Carte des précipitations moyennes par station "
        },
        "width": 1000
       }
      }
     },
     "metadata": {},
     "output_type": "display_data"
    }
   ],
   "source": [
    "# Création de la carte -> code Florent\n",
    "fig = px.scatter_geo(\n",
    "    rainfall_mean_by_location,\n",
    "    lat=\"Latitude\",           \n",
    "    lon=\"Longitude\",          \n",
    "    text=\"Location\",          \n",
    "    size=\"Rainfall\",          \n",
    "    size_max=20,              \n",
    "    color=\"Rainfall\",         \n",
    "    title=\"Carte des précipitations moyennes par station \",\n",
    "    projection=\"mercator\",    \n",
    "    hover_name=\"Location\",    \n",
    "    width=1000,\n",
    "    height=1000               \n",
    ")\n",
    "\n",
    "\n",
    "fig.update_geos(\n",
    "    center={\"lat\": -25.0, \"lon\": 133.0},  # Centrage de la carte sur l'Australie\n",
    "    projection_scale=4.3,                 # Niveau de zoom\n",
    "    showcountries=True,                   # Affichage des frontières\n",
    "    showcoastlines=True,                   # Affichage des lignes de côte\n",
    "    showframe=False                        # Suppression du cadre\n",
    ")\n",
    "\n",
    "# Ajustement des marges et de l'échelle de couleurs\n",
    "fig.update_layout(\n",
    "    margin={\"r\": 0, \"t\": 50, \"l\": 0, \"b\": 0},\n",
    "    coloraxis_colorbar=dict(\n",
    "        title=\"Précipitations (mm)\",  # Titre de l'échelle des couleurs\n",
    "        x=0.9,                        # Position horizontale de l'échelle\n",
    "        y=0.8,                        # Position verticale de l'échelle\n",
    "        len=0.3,                      # Taille de l'échelle\n",
    "        thickness=15                  # Épaisseur de l'échelle\n",
    "    )\n",
    ")\n",
    "\n",
    "# Affichage de la carte interactive\n",
    "fig.show()\n"
   ]
  }
 ],
 "metadata": {
  "kernelspec": {
   "display_name": "Python 3",
   "language": "python",
   "name": "python3"
  },
  "language_info": {
   "codemirror_mode": {
    "name": "ipython",
    "version": 3
   },
   "file_extension": ".py",
   "mimetype": "text/x-python",
   "name": "python",
   "nbconvert_exporter": "python",
   "pygments_lexer": "ipython3",
   "version": "3.13.3"
  }
 },
 "nbformat": 4,
 "nbformat_minor": 2
}
